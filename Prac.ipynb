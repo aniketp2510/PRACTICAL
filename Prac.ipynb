{
  "nbformat": 4,
  "nbformat_minor": 0,
  "metadata": {
    "colab": {
      "provenance": [],
      "authorship_tag": "ABX9TyN8qTsYTUPGxQyhaiHiZPgv",
      "include_colab_link": true
    },
    "kernelspec": {
      "name": "python3",
      "display_name": "Python 3"
    },
    "language_info": {
      "name": "python"
    }
  },
  "cells": [
    {
      "cell_type": "markdown",
      "metadata": {
        "id": "view-in-github",
        "colab_type": "text"
      },
      "source": [
        "<a href=\"https://colab.research.google.com/github/aniketp2510/PRACTICAL/blob/main/Prac.ipynb\" target=\"_parent\"><img src=\"https://colab.research.google.com/assets/colab-badge.svg\" alt=\"Open In Colab\"/></a>"
      ]
    },
    {
      "cell_type": "code",
      "execution_count": 17,
      "metadata": {
        "colab": {
          "base_uri": "https://localhost:8080/"
        },
        "id": "gSU6Uk-mHYAd",
        "outputId": "695c01ae-b013-4db6-b036-5006d4d8936a"
      },
      "outputs": [
        {
          "output_type": "stream",
          "name": "stdout",
          "text": [
            "   marks  Roll No     Name class\n",
            "0     51       10   aniket     a\n",
            "1     41       20   pratik     a\n",
            "2     45       30   atharv     b\n",
            "3     40       40    aarti     b\n",
            "4     88       50  shivani     b\n"
          ]
        }
      ],
      "source": [
        "import pandas as pd\n",
        "df=pd.DataFrame({\"marks\":[51,41,45,40,88],\"Roll No\":[10,20,30,40,50],\"Name\":['aniket','pratik','atharv','aarti','shivani'],\"class\":['a','a','b','b','b']})\n",
        "print (df)"
      ]
    },
    {
      "cell_type": "code",
      "source": [
        "df.info"
      ],
      "metadata": {
        "colab": {
          "base_uri": "https://localhost:8080/"
        },
        "id": "xRblhwBDKMV1",
        "outputId": "a2fd3f83-c664-40f3-b69b-87d41ad56bd2"
      },
      "execution_count": 5,
      "outputs": [
        {
          "output_type": "execute_result",
          "data": {
            "text/plain": [
              "<bound method DataFrame.info of    marks  Roll No     Name\n",
              "0     51       10   aniket\n",
              "1     41       20   pratik\n",
              "2     45       30   atharv\n",
              "3     40       40    aarti\n",
              "4     88       50  shivani>"
            ]
          },
          "metadata": {},
          "execution_count": 5
        }
      ]
    },
    {
      "cell_type": "code",
      "source": [
        "df.describe(include='object')"
      ],
      "metadata": {
        "colab": {
          "base_uri": "https://localhost:8080/",
          "height": 349
        },
        "id": "WWUjkq4nKTVU",
        "outputId": "41416601-f186-4384-cf69-5e26f34c4a5f"
      },
      "execution_count": 6,
      "outputs": [
        {
          "output_type": "execute_result",
          "data": {
            "text/plain": [
              "          Name\n",
              "count        5\n",
              "unique       5\n",
              "top     aniket\n",
              "freq         1"
            ],
            "text/html": [
              "\n",
              "  <div id=\"df-cb57374e-96f5-45bc-b2b5-80369a614b15\" class=\"colab-df-container\">\n",
              "    <div>\n",
              "<style scoped>\n",
              "    .dataframe tbody tr th:only-of-type {\n",
              "        vertical-align: middle;\n",
              "    }\n",
              "\n",
              "    .dataframe tbody tr th {\n",
              "        vertical-align: top;\n",
              "    }\n",
              "\n",
              "    .dataframe thead th {\n",
              "        text-align: right;\n",
              "    }\n",
              "</style>\n",
              "<table border=\"1\" class=\"dataframe\">\n",
              "  <thead>\n",
              "    <tr style=\"text-align: right;\">\n",
              "      <th></th>\n",
              "      <th>Name</th>\n",
              "    </tr>\n",
              "  </thead>\n",
              "  <tbody>\n",
              "    <tr>\n",
              "      <th>count</th>\n",
              "      <td>5</td>\n",
              "    </tr>\n",
              "    <tr>\n",
              "      <th>unique</th>\n",
              "      <td>5</td>\n",
              "    </tr>\n",
              "    <tr>\n",
              "      <th>top</th>\n",
              "      <td>aniket</td>\n",
              "    </tr>\n",
              "    <tr>\n",
              "      <th>freq</th>\n",
              "      <td>1</td>\n",
              "    </tr>\n",
              "  </tbody>\n",
              "</table>\n",
              "</div>\n",
              "    <div class=\"colab-df-buttons\">\n",
              "\n",
              "  <div class=\"colab-df-container\">\n",
              "    <button class=\"colab-df-convert\" onclick=\"convertToInteractive('df-cb57374e-96f5-45bc-b2b5-80369a614b15')\"\n",
              "            title=\"Convert this dataframe to an interactive table.\"\n",
              "            style=\"display:none;\">\n",
              "\n",
              "  <svg xmlns=\"http://www.w3.org/2000/svg\" height=\"24px\" viewBox=\"0 -960 960 960\">\n",
              "    <path d=\"M120-120v-720h720v720H120Zm60-500h600v-160H180v160Zm220 220h160v-160H400v160Zm0 220h160v-160H400v160ZM180-400h160v-160H180v160Zm440 0h160v-160H620v160ZM180-180h160v-160H180v160Zm440 0h160v-160H620v160Z\"/>\n",
              "  </svg>\n",
              "    </button>\n",
              "\n",
              "  <style>\n",
              "    .colab-df-container {\n",
              "      display:flex;\n",
              "      gap: 12px;\n",
              "    }\n",
              "\n",
              "    .colab-df-convert {\n",
              "      background-color: #E8F0FE;\n",
              "      border: none;\n",
              "      border-radius: 50%;\n",
              "      cursor: pointer;\n",
              "      display: none;\n",
              "      fill: #1967D2;\n",
              "      height: 32px;\n",
              "      padding: 0 0 0 0;\n",
              "      width: 32px;\n",
              "    }\n",
              "\n",
              "    .colab-df-convert:hover {\n",
              "      background-color: #E2EBFA;\n",
              "      box-shadow: 0px 1px 2px rgba(60, 64, 67, 0.3), 0px 1px 3px 1px rgba(60, 64, 67, 0.15);\n",
              "      fill: #174EA6;\n",
              "    }\n",
              "\n",
              "    .colab-df-buttons div {\n",
              "      margin-bottom: 4px;\n",
              "    }\n",
              "\n",
              "    [theme=dark] .colab-df-convert {\n",
              "      background-color: #3B4455;\n",
              "      fill: #D2E3FC;\n",
              "    }\n",
              "\n",
              "    [theme=dark] .colab-df-convert:hover {\n",
              "      background-color: #434B5C;\n",
              "      box-shadow: 0px 1px 3px 1px rgba(0, 0, 0, 0.15);\n",
              "      filter: drop-shadow(0px 1px 2px rgba(0, 0, 0, 0.3));\n",
              "      fill: #FFFFFF;\n",
              "    }\n",
              "  </style>\n",
              "\n",
              "    <script>\n",
              "      const buttonEl =\n",
              "        document.querySelector('#df-cb57374e-96f5-45bc-b2b5-80369a614b15 button.colab-df-convert');\n",
              "      buttonEl.style.display =\n",
              "        google.colab.kernel.accessAllowed ? 'block' : 'none';\n",
              "\n",
              "      async function convertToInteractive(key) {\n",
              "        const element = document.querySelector('#df-cb57374e-96f5-45bc-b2b5-80369a614b15');\n",
              "        const dataTable =\n",
              "          await google.colab.kernel.invokeFunction('convertToInteractive',\n",
              "                                                    [key], {});\n",
              "        if (!dataTable) return;\n",
              "\n",
              "        const docLinkHtml = 'Like what you see? Visit the ' +\n",
              "          '<a target=\"_blank\" href=https://colab.research.google.com/notebooks/data_table.ipynb>data table notebook</a>'\n",
              "          + ' to learn more about interactive tables.';\n",
              "        element.innerHTML = '';\n",
              "        dataTable['output_type'] = 'display_data';\n",
              "        await google.colab.output.renderOutput(dataTable, element);\n",
              "        const docLink = document.createElement('div');\n",
              "        docLink.innerHTML = docLinkHtml;\n",
              "        element.appendChild(docLink);\n",
              "      }\n",
              "    </script>\n",
              "  </div>\n",
              "\n",
              "\n",
              "<div id=\"df-43cec2bc-11b0-4747-ab31-836c68d13097\">\n",
              "  <button class=\"colab-df-quickchart\" onclick=\"quickchart('df-43cec2bc-11b0-4747-ab31-836c68d13097')\"\n",
              "            title=\"Suggest charts\"\n",
              "            style=\"display:none;\">\n",
              "\n",
              "<svg xmlns=\"http://www.w3.org/2000/svg\" height=\"24px\"viewBox=\"0 0 24 24\"\n",
              "     width=\"24px\">\n",
              "    <g>\n",
              "        <path d=\"M19 3H5c-1.1 0-2 .9-2 2v14c0 1.1.9 2 2 2h14c1.1 0 2-.9 2-2V5c0-1.1-.9-2-2-2zM9 17H7v-7h2v7zm4 0h-2V7h2v10zm4 0h-2v-4h2v4z\"/>\n",
              "    </g>\n",
              "</svg>\n",
              "  </button>\n",
              "\n",
              "<style>\n",
              "  .colab-df-quickchart {\n",
              "      --bg-color: #E8F0FE;\n",
              "      --fill-color: #1967D2;\n",
              "      --hover-bg-color: #E2EBFA;\n",
              "      --hover-fill-color: #174EA6;\n",
              "      --disabled-fill-color: #AAA;\n",
              "      --disabled-bg-color: #DDD;\n",
              "  }\n",
              "\n",
              "  [theme=dark] .colab-df-quickchart {\n",
              "      --bg-color: #3B4455;\n",
              "      --fill-color: #D2E3FC;\n",
              "      --hover-bg-color: #434B5C;\n",
              "      --hover-fill-color: #FFFFFF;\n",
              "      --disabled-bg-color: #3B4455;\n",
              "      --disabled-fill-color: #666;\n",
              "  }\n",
              "\n",
              "  .colab-df-quickchart {\n",
              "    background-color: var(--bg-color);\n",
              "    border: none;\n",
              "    border-radius: 50%;\n",
              "    cursor: pointer;\n",
              "    display: none;\n",
              "    fill: var(--fill-color);\n",
              "    height: 32px;\n",
              "    padding: 0;\n",
              "    width: 32px;\n",
              "  }\n",
              "\n",
              "  .colab-df-quickchart:hover {\n",
              "    background-color: var(--hover-bg-color);\n",
              "    box-shadow: 0 1px 2px rgba(60, 64, 67, 0.3), 0 1px 3px 1px rgba(60, 64, 67, 0.15);\n",
              "    fill: var(--button-hover-fill-color);\n",
              "  }\n",
              "\n",
              "  .colab-df-quickchart-complete:disabled,\n",
              "  .colab-df-quickchart-complete:disabled:hover {\n",
              "    background-color: var(--disabled-bg-color);\n",
              "    fill: var(--disabled-fill-color);\n",
              "    box-shadow: none;\n",
              "  }\n",
              "\n",
              "  .colab-df-spinner {\n",
              "    border: 2px solid var(--fill-color);\n",
              "    border-color: transparent;\n",
              "    border-bottom-color: var(--fill-color);\n",
              "    animation:\n",
              "      spin 1s steps(1) infinite;\n",
              "  }\n",
              "\n",
              "  @keyframes spin {\n",
              "    0% {\n",
              "      border-color: transparent;\n",
              "      border-bottom-color: var(--fill-color);\n",
              "      border-left-color: var(--fill-color);\n",
              "    }\n",
              "    20% {\n",
              "      border-color: transparent;\n",
              "      border-left-color: var(--fill-color);\n",
              "      border-top-color: var(--fill-color);\n",
              "    }\n",
              "    30% {\n",
              "      border-color: transparent;\n",
              "      border-left-color: var(--fill-color);\n",
              "      border-top-color: var(--fill-color);\n",
              "      border-right-color: var(--fill-color);\n",
              "    }\n",
              "    40% {\n",
              "      border-color: transparent;\n",
              "      border-right-color: var(--fill-color);\n",
              "      border-top-color: var(--fill-color);\n",
              "    }\n",
              "    60% {\n",
              "      border-color: transparent;\n",
              "      border-right-color: var(--fill-color);\n",
              "    }\n",
              "    80% {\n",
              "      border-color: transparent;\n",
              "      border-right-color: var(--fill-color);\n",
              "      border-bottom-color: var(--fill-color);\n",
              "    }\n",
              "    90% {\n",
              "      border-color: transparent;\n",
              "      border-bottom-color: var(--fill-color);\n",
              "    }\n",
              "  }\n",
              "</style>\n",
              "\n",
              "  <script>\n",
              "    async function quickchart(key) {\n",
              "      const quickchartButtonEl =\n",
              "        document.querySelector('#' + key + ' button');\n",
              "      quickchartButtonEl.disabled = true;  // To prevent multiple clicks.\n",
              "      quickchartButtonEl.classList.add('colab-df-spinner');\n",
              "      try {\n",
              "        const charts = await google.colab.kernel.invokeFunction(\n",
              "            'suggestCharts', [key], {});\n",
              "      } catch (error) {\n",
              "        console.error('Error during call to suggestCharts:', error);\n",
              "      }\n",
              "      quickchartButtonEl.classList.remove('colab-df-spinner');\n",
              "      quickchartButtonEl.classList.add('colab-df-quickchart-complete');\n",
              "    }\n",
              "    (() => {\n",
              "      let quickchartButtonEl =\n",
              "        document.querySelector('#df-43cec2bc-11b0-4747-ab31-836c68d13097 button');\n",
              "      quickchartButtonEl.style.display =\n",
              "        google.colab.kernel.accessAllowed ? 'block' : 'none';\n",
              "    })();\n",
              "  </script>\n",
              "</div>\n",
              "    </div>\n",
              "  </div>\n"
            ]
          },
          "metadata": {},
          "execution_count": 6
        },
        {
          "output_type": "display_data",
          "data": {
            "text/plain": [
              "<google.colab._quickchart_helpers.SectionTitle at 0x7ed7e126b130>"
            ],
            "text/html": [
              "<h4 class=\"colab-quickchart-section-title\">Categorical distributions</h4>\n",
              "<style>\n",
              "  .colab-quickchart-section-title {\n",
              "      clear: both;\n",
              "  }\n",
              "</style>"
            ]
          },
          "metadata": {}
        },
        {
          "output_type": "display_data",
          "data": {
            "text/plain": [
              "from matplotlib import pyplot as plt\n",
              "import seaborn as sns\n",
              "_df_0.groupby('Name').size().plot(kind='barh', color=sns.palettes.mpl_palette('Dark2'))\n",
              "plt.gca().spines[['top', 'right',]].set_visible(False)"
            ],
            "text/html": [
              "      <div class=\"colab-quickchart-chart-with-code\" id=\"chart-466173c6-e316-4a5e-97f0-06aef8e83965\">\n",
              "        <img style=\"width: 180px;\" src=\"data:image/png;base64,iVBORw0KGgoAAAANSUhEUgAAAjsAAAGZCAYAAABv6vAjAAAAOXRFWHRTb2Z0d2FyZQBNYXRwbG90\n",
              "bGliIHZlcnNpb24zLjcuMSwgaHR0cHM6Ly9tYXRwbG90bGliLm9yZy/bCgiHAAAACXBIWXMAAA9h\n",
              "AAAPYQGoP6dpAAAVqklEQVR4nO3da4xV5bnA8WcLnsFWgVOBBkWGw7UFhRGBtDXq0ZNW0moxSLy0\n",
              "taZ61A822NrGhEbBGiLGVNRitJoaG7S1VrHRYP1g1daaiHdKY8QLgkgFahQBqYw4854PPU6cgrg3\n",
              "7O2eefz9kvkwa60Zn5flK/+s2eOulFJKAAAktU+zBwAAaCSxAwCkJnYAgNTEDgCQmtgBAFITOwBA\n",
              "amIHAEhN7AAAqYkdACA1sfP/rr322maPAAA0gNj5f6+++mqzRwAAGkDsAACpiR0AIDWxAwCkJnYA\n",
              "gNTEDgCQmtgBAFITOwBAamIHAEhN7AAAqYkdACA1sQMApCZ2AIDUxA4AkJrYAQBSEzsAQGpiBwBI\n",
              "TewAAKmJHQAgNbEDAKQmdgCA1MQOAJCa2AEAUhM7AEBqYgcASE3sAACpiR0AIDWxAwCkJnYAgNQq\n",
              "pZTS7CF6gimTT4rjjvnfZo8BVOHKq09o9ghAL+LJDgCQmtgBAFITOwBAamIHAEhN7AAAqYkdACA1\n",
              "sQMApCZ2AIDUxA4AkJrYAQBSEzsAQGpiBwBITewAAKmJHQAgNbEDAKQmdgCA1MQOAJCa2AEAUhM7\n",
              "AEBqYgcASE3sAACpiR0AIDWxAwCkJnYAgNTEDgCQmtgBAFITOwBAaj0udtra2mLr1q0RETFixIhY\n",
              "vnx5TV9/zTXXxIYNGxowGQDQG/W42Fm+fHkccMABe/z1YgcA+LCGxs63v/3tmDJlSkycODG+8Y1v\n",
              "xIYNG2LNmjUxcODAmDdvXhxxxBExevTo+MMf/tD1NZVKJd5+++2dvteiRYviyCOPjDfeeCM2bNgQ\n",
              "p5xySkybNi0OO+ywuPjiiyMi4rLLLovXX389Tj311Ghra/vIp0Lt7e2xZcuWbh+ls7MRfwQAQJM1\n",
              "NHauueaaeOqpp2LFihVx1FFHxaWXXhoREZs3b46JEyfG008/Hdddd1388Ic//Mjv0dnZGRdeeGE8\n",
              "9NBD8cc//jEGDx4cZ555Zpx//vnxxBNPxLPPPhtPPfVU3HnnnTF37tw46KCD4o477ojly5dHW1vb\n",
              "Lr/nggULYsCAAd0+1m98sQF/AgBAs/Vt5Df/zW9+E7feemts3749tm/fHoMGDYqIiH79+sXMmTMj\n",
              "IuLLX/5yrFq16iO/x7nnnhuHH354LFmyJPbZZ5/Ytm1bPPjgg7Fx48aua95555144YUXqp5rzpw5\n",
              "ceGFF3Y7duzR36llaQBAL9Gw2Hn00Ufj5z//eTz22GMxZMiQuPfee2Pu3LkREdHS0hKVSiUiIvr0\n",
              "6RMdHR0f+X2OOeaYeOCBB2LDhg1x0EEHRSklIiKWLVsW/fr126PZWlpaoqWlpduxyj497uVLAEAd\n",
              "NOxv+E2bNsUBBxwQBx54YLz33ntx44037tH3OeOMM2Lu3Llx3HHHxerVq2P//fePY489Nq644oqu\n",
              "a15//fVYt25dRET0798/Nm/eXJc1AAC9X8NiZ/r06TFu3LgYN25cHHXUUR/5+plqzJo1K6666qr4\n",
              "2te+FitXroxf//rX8fLLL8ehhx4ahx12WMycOTPefPPNiIiYPXt2nHPOObt9gTIA8OlRKR/8XOhT\n",
              "bsrkk+K4Y/632WMAVbjy6hOaPQLQi3ihCgCQmtgBAFITOwBAamIHAEhN7AAAqYkdACA1sQMApCZ2\n",
              "AIDUxA4AkJrYAQBSEzsAQGpiBwBITewAAKmJHQAgNbEDAKQmdgCA1MQOAJCa2AEAUhM7AEBqYgcA\n",
              "SE3sAACpiR0AIDWxAwCkJnYAgNTEDgCQWt9mD9BTHP3fI+PKhSc0ewwAoM482QEAUhM7AEBqYgcA\n",
              "SE3sAACpiR0AIDWxAwCkJnYAgNTEDgCQmtgBAFITOwBAamIHAEhN7AAAqYkdACA1sQMApCZ2AIDU\n",
              "xA4AkJrYAQBSEzsAQGpiBwBITewAAKmJHQAgNbEDAKQmdgCA1MQOAJCa2AEAUhM7AEBqYgcASE3s\n",
              "AACpiR0AIDWxAwCkJnYAgNTEDgCQmtgBAFITOwBAamIHAEhN7AAAqYkdACA1sQMApCZ2AIDUxA4A\n",
              "kJrYAQBSEzsAQGpiBwBITewAAKmJHQAgNbEDAKQmdgCA1MQOAJCa2AEAUhM7AEBqYgcASE3sAACp\n",
              "iR0AIDWxAwCkJnYAgNTEDgCQmtgBAFITOwBAamIHAEhN7AAAqYkdACC1SimlNHuInuB7EyoxZ6r2\n",
              "A4B6GvurjmaP4MkOAJCb2AEAUhM7AEBqYgcASE3sAACpiR0AIDWxAwCkJnYAgNTEDgCQmtgBAFIT\n",
              "OwBAamIHAEhN7AAAqYkdACA1sQMApCZ2AIDU9ih2nn766bj11lsjImLTpk2xfv36ug4FAFAvNcfO\n",
              "9ddfH2eddVZceumlERHx1ltvxbe+9a16zwUAUBc1x85NN90Uy5Yti/79+0dExKhRo+KNN96o+2AA\n",
              "APVQc+y0tLTEfvvt1+1Y37596zYQAEA91Rw7gwcPjhdffDEqlUpERPzqV7+K4cOH130wAIB6qPmR\n",
              "zDXXXBOnn356rFy5Mg455JDo379/LF26tBGzAQDstZpjZ/To0fH444/HCy+8EKWUGDduXPTp06cR\n",
              "swEA7LU9erHNO++8Ezt27Ij3338//vrXv0ZExOTJk+s6GABAPdQcO1dffXXMnTs3Bg8e3PVEp1Kp\n",
              "xIsvvlj34QAA9lbNsbNo0aJ44YUX4qCDDmrEPAAAdVXzb2MdfPDBPTZ0RowYEePGjYu2trZoa2uL\n",
              "O+64o9kjAQBNVvOTnZ/85Ccxe/bsOOGEE6Jfv35dx48++ui6Dran7rjjjmhra2v2GABAD1Fz7Dz2\n",
              "2GOxePHiePTRR7u9ZueJJ56o+3CN0t7eHu3t7d2OdXQ2aRgAoKFqjp3FixfHmjVrYuDAgQ0YZ+99\n",
              "97vfjVJKTJs2La644ooYPHjwTtcsWLAgfvrTn3Y7NmnQJzUhAPBJqvk1O62trT02dB555JFYsWJF\n",
              "PPPMMzFo0KA488wzd3ndnDlzYvPmzd0+JoodAEip5ic7U6dOjVNOOSVmzZrV7TU73/zmN+s62J74\n",
              "4G0r9t133/jBD34QY8eO3eV1LS0t0dLS0u1Yn5qzDwDoDWqOnaeffjoiIm644YauY5VKpemxs23b\n",
              "ttixY0fXU6fbb789Dj/88KbOBAA0X82x8/DDDzdijr22cePGOPnkk6OjoyNKKTFy5MhYvHhxs8cC\n",
              "AJpsj94uYseOHbF69erYvn1717GJEyfWbag9MXLkyHj22WebOgMA0PPUHDtLly6Nc845JzZt2hSf\n",
              "/exnY9OmTdHa2hqrV69uxHwAAHul5pflXnLJJbFs2bL44he/GG+++WYsXrw4Zs2a1YjZAAD2Ws2x\n",
              "s88++0Rra2u8//77ERHxne98Jx566KG6DwYAUA81/xhr3333jYiIYcOGxe9///sYMWJEbNq0qe6D\n",
              "AQDUQ82xc8EFF8SmTZti/vz5cdppp8Xbb78d1157bSNmAwDYa1XHziOPPBIR/3rX87/97W8REfHL\n",
              "X/4yIv71/9kBAOiJqo6dH/3oRzsdq1Qq8frrr8f69eujo6OjroMBANRD1bHz5JNPdvv8rbfeivnz\n",
              "58dtt92205tqAgD0FDX/Ntb27dtjwYIFMX78+IiIeP755+Piiy+u+2AAAPVQdex0dnbGTTfdFGPG\n",
              "jImVK1fG448/HgsXLowDDzywkfMBAOyVqn+Mdeihh0Z7e3tcfvnlMWnSpNi8eXOsWLGi63yz3y4C\n",
              "AGBXqo6df/7zn1GpVGLu3Lk7natUKvHKK6/UdTAAgHqoOnbWrFnTwDEAABqj5hcoAwD0JmIHAEhN\n",
              "7AAAqYkdACA1sQMApCZ2AIDUxA4AkJrYAQBSEzsAQGpiBwBITewAAKmJHQAgtarfCDS7/zz+hzF2\n",
              "4cJmjwEA1JknOwBAamIHAEhN7AAAqYkdACA1sQMApCZ2AIDUxA4AkJrYAQBSEzsAQGpiBwBITewA\n",
              "AKmJHQAgNbEDAKQmdgCA1MQOAJCa2AEAUhM7AEBqYgcASE3sAACpiR0AIDWxAwCkJnYAgNTEDgCQ\n",
              "mtgBAFITOwBAamIHAEhN7AAAqYkdACA1sQMApCZ2AIDUxA4AkJrYAQBSEzsAQGpiBwBITewAAKmJ\n",
              "HQAgNbEDAKQmdgCA1MQOAJCa2AEAUhM7AEBqYgcASE3sAACpiR0AIDWxAwCkJnYAgNTEDgCQmtgB\n",
              "AFITOwBAamIHAEhN7AAAqYkdACA1sQMApCZ2AIDUxA4AkJrYAQBSEzsAQGpiBwBITewAAKmJHQAg\n",
              "NbEDAKRWKaWUZg/RE+x//NQYeNr/NHsMoArrvndFs0cAehFPdgCA1MQOAJCa2AEAUhM7AEBqYgcA\n",
              "SE3sAACpiR0AIDWxAwCkJnYAgNTEDgCQmtgBAFITOwBAamIHAEhN7AAAqYkdACA1sQMApCZ2AIDU\n",
              "xA4AkJrYAQBSEzsAQGpiBwBITewAAKmJHQAgNbEDAKQmdgCA1MQOAJBamtiZPXt2jBgxIiqVSixf\n",
              "vrzZ4wAAPUSa2Jk1a1Y8+uij0dra2uxRAIAepG+zB6iXo48+utkjAAA9UJrYqUV7e3u0t7d3P9hR\n",
              "mjMMANBQaX6MVYsFCxbEgAEDun28t3p9s8cCABrgUxk7c+bMic2bN3f7+I//GtrssQCABvhU/hir\n",
              "paUlWlpauh/sU2nOMABAQ6V5snPeeefFsGHDYt26dXH88cfH6NGjmz0SANADpHmyc+ONNzZ7BACg\n",
              "B0rzZAcAYFfEDgCQmtgBAFITOwBAamIHAEhN7AAAqYkdACA1sQMApCZ2AIDUxA4AkJrYAQBSEzsA\n",
              "QGpiBwBITewAAKmJHQAgNbEDAKQmdgCA1MQOAJCa2AEAUhM7AEBqYgcASE3sAACpiR0AIDWxAwCk\n",
              "JnYAgNT6NnuAnuLcCUfFwu9d0ewxAIA682QHAEhN7AAAqYkdACA1sQMApCZ2AIDUxA4AkJrYAQBS\n",
              "EzsAQGpiBwBITewAAKmJHQAgNbEDAKQmdgCA1MQOAJCa2AEAUhM7AEBqYgcASE3sAACpiR0AIDWx\n",
              "AwCkJnYAgNTEDgCQmtgBAFITOwBAamIHAEhN7AAAqYkdACA1sQMApCZ2AIDUxA4AkFrfZg/QE7S3\n",
              "t8f9998fHR0d0adPn2aP01AdHR3xxBNPxLRp06w1EWvNyVpzstb6am1tjQsuuGC311RKKaUh//Re\n",
              "ZMuWLTFgwIDYvHlz9O/fv9njNJS15mStOVlrTtb6yfNjLAAgNbEDAKQmdgCA1MRORLS0tMS8efOi\n",
              "paWl2aM0nLXmZK05WWtO1vrJ8wJlACA1T3YAgNTEDgCQmtgBAFJLHTsvvfRSfOUrX4mxY8fG1KlT\n",
              "47nnntvldTfffHOMGTMmRo0aFeecc07s2LGjqnM9STVrfeihh2LatGkxfvz4mDBhQlx00UXR2dkZ\n",
              "ERFr1qyJPn36RFtbW9fHqlWrPullVKWatf7pT3+K/fbbr9t63n333a7zme7rLbfc0m2dgwYNipkz\n",
              "Z0ZE77qvs2fPjhEjRkSlUonly5d/5HUZ9ms1a82yX6tZa5b9Ws1aM+zX7du3x0knnRRjx46NSZMm\n",
              "xVe/+tV4+eWXd3nt0qVL4wtf+EKMGTMmZs6cGVu2bKnqXN2VxI499thyyy23lFJKufPOO8uUKVN2\n",
              "uuaVV14pQ4cOLevXry+dnZ3lxBNPLNddd93HnutpqlnrM888U1atWlVKKeXdd98tRx55ZNfXrF69\n",
              "ugwYMOATmnbvVLPWhx9+uEyaNGmXX5/tvv67CRMmlLvuuquU0rvu65///Ofy2muvldbW1vLss8/u\n",
              "8pos+7WatWbZr9WsNct+rWat/6437td333233HfffaWzs7OUUsqiRYvKMcccs9N1W7duLUOGDCnP\n",
              "P/98KaWU888/v/z4xz/+2HONkDZ2Nm7cWA444ICyY8eOUkopnZ2d5fOf/3x56aWXul135ZVXlvPO\n",
              "O6/r8/vuu68ceeSRH3uuJ6l2rf/u/PPPL/PmzSul9J5NVu1ad/cfz8z3ddmyZWXw4MHlvffeK6X0\n",
              "nvv6Ybv7iyLDfv2wWv5S7I379cP2NHYy39cM+7WUUp588snS2tq60/Hf/e535fjjj+/6/LnnnisH\n",
              "H3zwx55rhLQ/xnrttddi6NCh0bfvv97rtFKpxPDhw2Pt2rXdrlu7dm20trZ2fT5ixIiua3Z3riep\n",
              "dq0ftmHDhrjrrrvihBNO6Dq2bdu2mDp1akyePDkuu+yy6OjoaPjstaplratWrYrJkyfH1KlT4/rr\n",
              "r+86nvm+3nzzzXHGGWfEvvvu23WsN9zXamXYr3uit+7XWvT2/bonsuzXa6+9NmbMmLHT8V3du/Xr\n",
              "18f777+/23ON4F3PP4W2bNkSJ554Ylx00UUxZcqUiIgYOnRo/P3vf48hQ4bEW2+9FaeeempcddVV\n",
              "cdFFFzV52j0zefLkWLduXQwYMCDWrVsXX//612PQoEFxyimnNHu0htm2bVv89re/jWXLlnUdy3Zf\n",
              "P43s15yy7NfLL788Xn755XjwwQebPcpupX2yc8ghh3SrxFJKrF27NoYPH97tuuHDh8err77a9fma\n",
              "NWu6rtnduZ6k2rVGRGzdujWmT58eM2bMiAsvvLDreEtLSwwZMiQiIj73uc/FWWedFX/5y18+mQXU\n",
              "oNq19u/fPwYMGBAREcOGDYvTTz+9az0Z72tExJ133hkTJkyI8ePHdx3rLfe1Whn2ay16+36tVob9\n",
              "WqsM+/VnP/tZ3H333XH//ffHZz7zmZ3O7+reffC0enfnGiFt7AwZMiQmT54ct912W0RELFmyJIYN\n",
              "GxajR4/udt3JJ58c9957b2zYsCFKKfGLX/wiTjvttI8915NUu9Z33nknpk+fHtOnT4+LL76427l/\n",
              "/OMfXb/h0N7eHnfffXccfvjhn8wCalDtWtevX9/1mytbt26NpUuXdq0n2339wM033xxnn312t2O9\n",
              "5b5WK8N+rVaG/VqtDPu1Vr19vy5cuDBuv/32eOCBB2LgwIG7vGb69OnxzDPPxMqVKyMi4vrrr++6\n",
              "d7s71xANezVQD7By5crypS99qYwZM6YcccQRZcWKFaWUUs4+++xyzz33dF130003lZEjR5aRI0eW\n",
              "s846q+vFYh93riepZq3z588vffv2LZMmTer6mD9/fimllCVLlpQJEyaUiRMnlvHjx5fvf//7Zfv2\n",
              "7U1bz+5Us9ZFixaV8ePHd61n3rx5Xb85UEqu+/rBdfvvv3/ZsmVLt6/vTff13HPPLQcffHDp06dP\n",
              "GTJkSBk1alQpJed+rWatWfZrNWvNsl+r/Xe4t+/X1157rUREGTlyZNe/m9OmTSullHLJJZeUG264\n",
              "oevae+65p4wbN66MGjWqzJgxo7z99ttVnas3740FAKSW9sdYAAARYgcASE7sAACpiR0AIDWxAwCk\n",
              "JnYAgNTEDgCQmtgBAFITOwBAamIHAEhN7AAAqf0fhsFm+Cgxwy4AAAAASUVORK5CYII=\n",
              "\">\n",
              "      </div>\n",
              "      <script type=\"text/javascript\">\n",
              "        (() => {\n",
              "          const chartElement = document.getElementById(\"chart-466173c6-e316-4a5e-97f0-06aef8e83965\");\n",
              "          async function getCodeForChartHandler(event) {\n",
              "            const chartCodeResponse =  await google.colab.kernel.invokeFunction(\n",
              "                'getCodeForChart', [\"chart-466173c6-e316-4a5e-97f0-06aef8e83965\"], {});\n",
              "            const responseJson = chartCodeResponse.data['application/json'];\n",
              "            await google.colab.notebook.addCell(responseJson.code, 'code');\n",
              "          }\n",
              "          chartElement.onclick = getCodeForChartHandler;\n",
              "        })();\n",
              "      </script>\n",
              "      <style>\n",
              "        .colab-quickchart-chart-with-code  {\n",
              "            display: block;\n",
              "            float: left;\n",
              "            border: 1px solid transparent;\n",
              "        }\n",
              "\n",
              "        .colab-quickchart-chart-with-code:hover {\n",
              "            cursor: pointer;\n",
              "            border: 1px solid #aaa;\n",
              "        }\n",
              "      </style>"
            ]
          },
          "metadata": {}
        }
      ]
    },
    {
      "cell_type": "code",
      "source": [
        "df.nunique()"
      ],
      "metadata": {
        "colab": {
          "base_uri": "https://localhost:8080/"
        },
        "id": "ZPZ0H2IpKces",
        "outputId": "94b7f236-638e-4556-83f3-6641312f538c"
      },
      "execution_count": 7,
      "outputs": [
        {
          "output_type": "execute_result",
          "data": {
            "text/plain": [
              "marks      5\n",
              "Roll No    5\n",
              "Name       5\n",
              "dtype: int64"
            ]
          },
          "metadata": {},
          "execution_count": 7
        }
      ]
    },
    {
      "cell_type": "code",
      "source": [
        "df.duplicated().sum()"
      ],
      "metadata": {
        "colab": {
          "base_uri": "https://localhost:8080/"
        },
        "id": "qkSwIDYUKrnF",
        "outputId": "a63b3307-d5d7-4b7d-c50d-7c7038a498a7"
      },
      "execution_count": 11,
      "outputs": [
        {
          "output_type": "execute_result",
          "data": {
            "text/plain": [
              "0"
            ]
          },
          "metadata": {},
          "execution_count": 11
        }
      ]
    },
    {
      "cell_type": "code",
      "source": [
        "df.sum()"
      ],
      "metadata": {
        "colab": {
          "base_uri": "https://localhost:8080/"
        },
        "id": "CV2Hy9xlKxvs",
        "outputId": "6c4da109-e869-496e-e5bd-a1af8723a37e"
      },
      "execution_count": 10,
      "outputs": [
        {
          "output_type": "execute_result",
          "data": {
            "text/plain": [
              "marks                                 265\n",
              "Roll No                               150\n",
              "Name       aniketpratikatharvaartishivani\n",
              "dtype: object"
            ]
          },
          "metadata": {},
          "execution_count": 10
        }
      ]
    },
    {
      "cell_type": "code",
      "source": [
        "df[\"Name\"]"
      ],
      "metadata": {
        "colab": {
          "base_uri": "https://localhost:8080/"
        },
        "id": "nB_3WqO3MNlj",
        "outputId": "16f16618-9428-41e1-9b8f-8a0cab47297f"
      },
      "execution_count": 14,
      "outputs": [
        {
          "output_type": "execute_result",
          "data": {
            "text/plain": [
              "0     aniket\n",
              "1     pratik\n",
              "2     atharv\n",
              "3      aarti\n",
              "4    shivani\n",
              "Name: Name, dtype: object"
            ]
          },
          "metadata": {},
          "execution_count": 14
        }
      ]
    },
    {
      "cell_type": "code",
      "source": [
        "df[\"Name\"].duplicated()"
      ],
      "metadata": {
        "colab": {
          "base_uri": "https://localhost:8080/"
        },
        "id": "9IcHdvUfMYoE",
        "outputId": "24c42685-92c1-4a8b-8c9d-29da149b7fd0"
      },
      "execution_count": 15,
      "outputs": [
        {
          "output_type": "execute_result",
          "data": {
            "text/plain": [
              "0    False\n",
              "1    False\n",
              "2    False\n",
              "3    False\n",
              "4    False\n",
              "Name: Name, dtype: bool"
            ]
          },
          "metadata": {},
          "execution_count": 15
        }
      ]
    },
    {
      "cell_type": "code",
      "source": [
        "df[\"Name\"].value_counts"
      ],
      "metadata": {
        "colab": {
          "base_uri": "https://localhost:8080/"
        },
        "id": "QvahZcP6Mh-E",
        "outputId": "2d08dbfc-56ce-49cf-e0de-78671b03386f"
      },
      "execution_count": 16,
      "outputs": [
        {
          "output_type": "execute_result",
          "data": {
            "text/plain": [
              "<bound method IndexOpsMixin.value_counts of 0     aniket\n",
              "1     pratik\n",
              "2     atharv\n",
              "3      aarti\n",
              "4    shivani\n",
              "Name: Name, dtype: object>"
            ]
          },
          "metadata": {},
          "execution_count": 16
        }
      ]
    },
    {
      "cell_type": "code",
      "source": [
        "df[\"class\"].value_counts()"
      ],
      "metadata": {
        "colab": {
          "base_uri": "https://localhost:8080/"
        },
        "id": "RS3diAdmM4KU",
        "outputId": "2bc4c80b-85a4-4c24-e7f5-0618734a6fcb"
      },
      "execution_count": 18,
      "outputs": [
        {
          "output_type": "execute_result",
          "data": {
            "text/plain": [
              "b    3\n",
              "a    2\n",
              "Name: class, dtype: int64"
            ]
          },
          "metadata": {},
          "execution_count": 18
        }
      ]
    },
    {
      "cell_type": "code",
      "source": [
        "df[\"marks\"].mean()"
      ],
      "metadata": {
        "colab": {
          "base_uri": "https://localhost:8080/"
        },
        "id": "2DLwDV9hPh0U",
        "outputId": "9a8a5bdd-811d-4132-b999-24e86747effa"
      },
      "execution_count": 19,
      "outputs": [
        {
          "output_type": "execute_result",
          "data": {
            "text/plain": [
              "53.0"
            ]
          },
          "metadata": {},
          "execution_count": 19
        }
      ]
    },
    {
      "cell_type": "code",
      "source": [
        "df[\"marks\"].var()"
      ],
      "metadata": {
        "colab": {
          "base_uri": "https://localhost:8080/"
        },
        "id": "0FY5AhZ2P5AD",
        "outputId": "abcb2d05-72aa-4ef6-ed50-c018c0cc3b02"
      },
      "execution_count": 23,
      "outputs": [
        {
          "output_type": "execute_result",
          "data": {
            "text/plain": [
              "401.5"
            ]
          },
          "metadata": {},
          "execution_count": 23
        }
      ]
    },
    {
      "cell_type": "code",
      "source": [
        "a=df.corr()\n",
        "print(a)"
      ],
      "metadata": {
        "colab": {
          "base_uri": "https://localhost:8080/"
        },
        "id": "LBWb1UEqRKKb",
        "outputId": "ada228b5-4108-4760-efce-bf3d241a7619"
      },
      "execution_count": 26,
      "outputs": [
        {
          "output_type": "stream",
          "name": "stdout",
          "text": [
            "            marks   Roll No\n",
            "marks    1.000000  0.576037\n",
            "Roll No  0.576037  1.000000\n"
          ]
        },
        {
          "output_type": "stream",
          "name": "stderr",
          "text": [
            "<ipython-input-26-254674a1c818>:1: FutureWarning: The default value of numeric_only in DataFrame.corr is deprecated. In a future version, it will default to False. Select only valid columns or specify the value of numeric_only to silence this warning.\n",
            "  a=df.corr()\n"
          ]
        }
      ]
    },
    {
      "cell_type": "code",
      "source": [
        "import seaborn as sns\n",
        "sns.heatmap(a,annot=True,fmt='.1f',cmap='plasma')"
      ],
      "metadata": {
        "colab": {
          "base_uri": "https://localhost:8080/",
          "height": 453
        },
        "id": "lBd2gZ48SXpj",
        "outputId": "36ac54c8-11a6-4ef8-b44b-35bbe97f020a"
      },
      "execution_count": 38,
      "outputs": [
        {
          "output_type": "execute_result",
          "data": {
            "text/plain": [
              "<Axes: >"
            ]
          },
          "metadata": {},
          "execution_count": 38
        },
        {
          "output_type": "display_data",
          "data": {
            "text/plain": [
              "<Figure size 640x480 with 2 Axes>"
            ],
            "image/png": "[encoded data removed]"
          },
          "metadata": {}
        }
      ]
    },
    {
      "cell_type": "code",
      "source": [
        "cmap="
      ],
      "metadata": {
        "id": "jiXnNv8lTADb"
      },
      "execution_count": null,
      "outputs": []
    }
  ]
}